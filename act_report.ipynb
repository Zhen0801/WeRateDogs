{
 "cells": [
  {
   "cell_type": "markdown",
   "metadata": {},
   "source": [
    "## WeRateDogs 🧡 "
   ]
  },
  {
   "cell_type": "markdown",
   "metadata": {},
   "source": [
    "**WeRateDogs** is a Twitter account that rates people's dogs with a humorous comment about the dog, and after going through more than 2356 tweets and all the data analyzing work, here are **Four Interesting Findings** from the WeRateDogs: \n"
   ]
  },
  {
   "cell_type": "markdown",
   "metadata": {},
   "source": [
    "### 1 **'Charlie'**  and **Lucy** are very popular names for dogs!\n",
    "Although this finding seems to have nothing to do with the _WeRateDogs_, I still surprising found that among all those dogs in the _WeRateDogs_ Twitter account, **'Charlie'** and **Lucy** are the most frequent dog names appeared according to the data we have gathered!   \n",
    "\n",
    "And right following them, the dog names **'Oliver' and 'Cooper'** are also the popular ones!  \n",
    "\n",
    "### 2 Higher rate $\\neq$ More popular  \n",
    "The rate of every dog has is actually not so compellingly. The rates given by the owners or providers sometimes can be emotional and personal. That's why many of the rates are above 10 ( The denominator is 10 ) and the top rate ones don't really have high retweet counts(or favorite counts).\n",
    "\n",
    "### 3 Puppo are the BEST!\n",
    "\n",
    "<table><tr>\n",
    "<td> <img src=\"correlation.PNG\" alt=\"Drawing\" style=\"width: 400px;\"/> </td>\n",
    "<td> <img src=\"stage_favorite_and_retweet_counts.PNG\" alt=\"Drawing\" style=\"width: 400px;\"/> </td>\n",
    "</tr></table>\n",
    "  \n",
    "\n",
    "According to the **_retweet count_** and **_favorite count_** which have a strong positive correlation, the most popular stage of dog is puppo - the teenager stage of dogs, then followed by doggo, floofer and pupper. Pupper ( the big guys ) which are not so cute as the small ones get the least retweet and favorite counts.  \n",
    "_For more information on the stages of dogs, click this [link](https://www.youtube.com/watch?v=ah6fmNEtXFI)._\n",
    "\n",
    "### 4 Who is the top _retweet count_ and _favorite count_ dog?\n",
    "I believe this may be your most interesting question, so am I! Let's have a look!  \n",
    "\n",
    "<img src=\"https://pbs.twimg.com/ext_tw_video_thumb/744234667679821824/pu/img/1GaWmtJtdqzZV7jy.jpg\" style=\"height:200px\">\n",
    "Look at him!!! A labrador doggo relaxing swimming in the pool~~\n",
    "\n",
    "Sooo Cute!! No wonder he is so popular!  \n",
    "<br />\n",
    "<br />\n",
    "Overall, WeRateDogs is one of the cutest Twitter accounts I've ever meet!   \n",
    "If you also want to join among so many cute dogs 🐶, try not to rate your dog above 10! 😂😂😂"
   ]
  }
 ],
 "metadata": {
  "kernelspec": {
   "display_name": "Python 3",
   "language": "python",
   "name": "python3"
  },
  "language_info": {
   "codemirror_mode": {
    "name": "ipython",
    "version": 3
   },
   "file_extension": ".py",
   "mimetype": "text/x-python",
   "name": "python",
   "nbconvert_exporter": "python",
   "pygments_lexer": "ipython3",
   "version": "3.7.3"
  }
 },
 "nbformat": 4,
 "nbformat_minor": 2
}
