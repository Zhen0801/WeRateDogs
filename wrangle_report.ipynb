{
 "cells": [
  {
   "cell_type": "markdown",
   "metadata": {},
   "source": [
    "## Data Wrangling Report"
   ]
  },
  {
   "cell_type": "markdown",
   "metadata": {},
   "source": [
    "My data wrangling went through the following three main steps: **Data Gathering**, **Data Assessing**, and **Data Cleaning**.    \n",
    "\n",
    "### **Data Gathering**   \n",
    "Gathered data from three different sources: \n",
    "- Local File\n",
    "Downloaded the file _twitter_archive_enhanced.csv_ which was provided by Udacity manually.\n",
    "- File from the Internet \n",
    "Downloaded the file _image_predictions.tsv_ (tweet image predictions, i.e., what breed of dog or other object, animal, etc.) programmatically by using the Requests library and the provided URL.\n",
    "- Twitter API\n",
    "To get each tweet's retweet count and favorite (\"like\") count, I queried the Twitter API for each tweet's JSON data using the tweet IDs in the WeRateDogs Twitter archive with the help of Python's Tweepy library, and then stored each tweet's entire set of JSON data in the _tweet_json.txt file_ file.   \n",
    "The Twitter API keys, secrets, and tokens were deleted after _tweet_json.txt file_ was completed.\n",
    "\n",
    "### **Data Assessing**  \n",
    "Detected and documented the quality issues and tidiness issues by assessing the gathered data visually and programmatically.  \n",
    "The issues are as follows:\n",
    "#### Quality\n",
    "##### `twitter_archive` table\n",
    "- Some records of **rating_denominator** is not the Standard rating:10\n",
    "- Some records of **rating_numerator** is way to big than 10\n",
    "- Extract the phone number and email variables from the contact column using regular expressions and pandas' str.extract method\n",
    "- Data type:  \n",
    "    timestamp : string to datatime  \n",
    "    rating_numerator : int to float  \n",
    "    rating_denominator : int to float\n",
    "- Some ratings are not properly extracted\n",
    "- Some dog names are apparently wrong.Eg: 'a', 'the', 'an'.\n",
    "- Based on the 'text', the photo of tweet_id = '751583847268179968' is not a dog, but we will check it out.\n",
    "\n",
    "##### `image_predictions` table\n",
    "- Missing records (2075 instead of 2356)***(can't add yet)***\n",
    "- Delete unuseful conlumns : img_num\n",
    "- Lowercase the breeds of dogs.\n",
    "- Duplicated jpg url in the image predictions.\n",
    "<br/>\n",
    "\n",
    "#### Tidiness\n",
    "- Delete unuseful conlumns : in_reply_to_status_id,in_reply_to_user_id, expanded_urls, retweeted_status_user_id,retweeted_status_timestamp\n",
    "- 181 records are retweeted\n",
    "- One variable in four columns( Melt the doggo, floofer, pupper, puppo columns to a type column ) in `twitter_archive` table\n",
    "- Merge `addition_data` and `twitter_archive` tables\n",
    "- Multiple dog stages : Some tweets have two dogs in one tweet and some id's dog has more than one dag-stages.\n",
    "\n",
    "### **Data Cleaning**\n",
    "Cleaned each of the documented issues above and got the high quality and tidy master pandas DataFrames."
   ]
  }
 ],
 "metadata": {
  "kernelspec": {
   "display_name": "Python 3",
   "language": "python",
   "name": "python3"
  },
  "language_info": {
   "codemirror_mode": {
    "name": "ipython",
    "version": 3
   },
   "file_extension": ".py",
   "mimetype": "text/x-python",
   "name": "python",
   "nbconvert_exporter": "python",
   "pygments_lexer": "ipython3",
   "version": "3.7.3"
  }
 },
 "nbformat": 4,
 "nbformat_minor": 2
}
